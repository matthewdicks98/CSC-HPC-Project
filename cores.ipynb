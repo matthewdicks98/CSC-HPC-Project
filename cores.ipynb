{
 "cells": [
  {
   "cell_type": "code",
   "execution_count": 3,
   "metadata": {},
   "outputs": [],
   "source": [
    "import numpy as np\n",
    "import pandas as pd\n",
    "import matplotlib.pyplot as plt"
   ]
  },
  {
   "cell_type": "markdown",
   "metadata": {},
   "source": [
    "## comparing number of cores"
   ]
  },
  {
   "cell_type": "code",
   "execution_count": 8,
   "metadata": {},
   "outputs": [],
   "source": [
    "omp_cores = pd.read_csv(\"Results/omp_crossover/omp_crossover_cores\")\n",
    "omp_cores[' elapsed/gen_count'] = omp_cores[' elapsed/gen_count']*1000\n",
    "\n",
    "mpi_cores = pd.read_csv(\"Results/mpi/mpi_cores\")\n",
    "mpi_cores[' elapsed/gen_count'] = mpi_cores[' elapsed/gen_count']*1000\n",
    "\n",
    "# ser_cores = pd.read_csv(\"Results/serial/ser_cores.txt\")\n",
    "# ser_cores[' elapsed/gen_count'] = ser_cores[' elapsed/gen_count']*1000"
   ]
  },
  {
   "cell_type": "code",
   "execution_count": 9,
   "metadata": {},
   "outputs": [
    {
     "data": {
      "text/html": [
       "<div>\n",
       "<style scoped>\n",
       "    .dataframe tbody tr th:only-of-type {\n",
       "        vertical-align: middle;\n",
       "    }\n",
       "\n",
       "    .dataframe tbody tr th {\n",
       "        vertical-align: top;\n",
       "    }\n",
       "\n",
       "    .dataframe thead th {\n",
       "        text-align: right;\n",
       "    }\n",
       "</style>\n",
       "<table border=\"1\" class=\"dataframe\">\n",
       "  <thead>\n",
       "    <tr style=\"text-align: right;\">\n",
       "      <th></th>\n",
       "      <th>cores</th>\n",
       "      <th>pop_size</th>\n",
       "      <th>num_particles</th>\n",
       "      <th>final_fitness</th>\n",
       "      <th>gen_count</th>\n",
       "      <th>elapsed</th>\n",
       "      <th>elapsed/gen_count</th>\n",
       "    </tr>\n",
       "  </thead>\n",
       "  <tbody>\n",
       "    <tr>\n",
       "      <th>0</th>\n",
       "      <td>1</td>\n",
       "      <td>2000</td>\n",
       "      <td>50</td>\n",
       "      <td>244152.118286</td>\n",
       "      <td>609</td>\n",
       "      <td>561.413</td>\n",
       "      <td>921.860</td>\n",
       "    </tr>\n",
       "    <tr>\n",
       "      <th>1</th>\n",
       "      <td>2</td>\n",
       "      <td>2000</td>\n",
       "      <td>50</td>\n",
       "      <td>244152.118286</td>\n",
       "      <td>609</td>\n",
       "      <td>222.009</td>\n",
       "      <td>364.546</td>\n",
       "    </tr>\n",
       "    <tr>\n",
       "      <th>2</th>\n",
       "      <td>4</td>\n",
       "      <td>2000</td>\n",
       "      <td>50</td>\n",
       "      <td>244152.118286</td>\n",
       "      <td>609</td>\n",
       "      <td>111.486</td>\n",
       "      <td>183.064</td>\n",
       "    </tr>\n",
       "    <tr>\n",
       "      <th>3</th>\n",
       "      <td>8</td>\n",
       "      <td>2000</td>\n",
       "      <td>50</td>\n",
       "      <td>244152.118286</td>\n",
       "      <td>609</td>\n",
       "      <td>66.390</td>\n",
       "      <td>109.015</td>\n",
       "    </tr>\n",
       "    <tr>\n",
       "      <th>4</th>\n",
       "      <td>12</td>\n",
       "      <td>2000</td>\n",
       "      <td>50</td>\n",
       "      <td>244152.118286</td>\n",
       "      <td>609</td>\n",
       "      <td>56.837</td>\n",
       "      <td>93.328</td>\n",
       "    </tr>\n",
       "    <tr>\n",
       "      <th>5</th>\n",
       "      <td>16</td>\n",
       "      <td>2000</td>\n",
       "      <td>50</td>\n",
       "      <td>244152.118286</td>\n",
       "      <td>609</td>\n",
       "      <td>52.167</td>\n",
       "      <td>85.659</td>\n",
       "    </tr>\n",
       "    <tr>\n",
       "      <th>6</th>\n",
       "      <td>20</td>\n",
       "      <td>2000</td>\n",
       "      <td>50</td>\n",
       "      <td>244152.118286</td>\n",
       "      <td>609</td>\n",
       "      <td>81.619</td>\n",
       "      <td>134.022</td>\n",
       "    </tr>\n",
       "    <tr>\n",
       "      <th>7</th>\n",
       "      <td>26</td>\n",
       "      <td>2000</td>\n",
       "      <td>50</td>\n",
       "      <td>244152.118286</td>\n",
       "      <td>609</td>\n",
       "      <td>80.161</td>\n",
       "      <td>131.628</td>\n",
       "    </tr>\n",
       "    <tr>\n",
       "      <th>8</th>\n",
       "      <td>32</td>\n",
       "      <td>2000</td>\n",
       "      <td>50</td>\n",
       "      <td>244152.118286</td>\n",
       "      <td>609</td>\n",
       "      <td>78.404</td>\n",
       "      <td>128.742</td>\n",
       "    </tr>\n",
       "  </tbody>\n",
       "</table>\n",
       "</div>"
      ],
      "text/plain": [
       "   cores   pop_size   num_particles   final_fitness   gen_count   elapsed  \\\n",
       "0      1       2000              50   244152.118286         609   561.413   \n",
       "1      2       2000              50   244152.118286         609   222.009   \n",
       "2      4       2000              50   244152.118286         609   111.486   \n",
       "3      8       2000              50   244152.118286         609    66.390   \n",
       "4     12       2000              50   244152.118286         609    56.837   \n",
       "5     16       2000              50   244152.118286         609    52.167   \n",
       "6     20       2000              50   244152.118286         609    81.619   \n",
       "7     26       2000              50   244152.118286         609    80.161   \n",
       "8     32       2000              50   244152.118286         609    78.404   \n",
       "\n",
       "    elapsed/gen_count  \n",
       "0             921.860  \n",
       "1             364.546  \n",
       "2             183.064  \n",
       "3             109.015  \n",
       "4              93.328  \n",
       "5              85.659  \n",
       "6             134.022  \n",
       "7             131.628  \n",
       "8             128.742  "
      ]
     },
     "execution_count": 9,
     "metadata": {},
     "output_type": "execute_result"
    }
   ],
   "source": [
    "omp_cores"
   ]
  },
  {
   "cell_type": "code",
   "execution_count": 10,
   "metadata": {},
   "outputs": [
    {
     "data": {
      "text/html": [
       "<div>\n",
       "<style scoped>\n",
       "    .dataframe tbody tr th:only-of-type {\n",
       "        vertical-align: middle;\n",
       "    }\n",
       "\n",
       "    .dataframe tbody tr th {\n",
       "        vertical-align: top;\n",
       "    }\n",
       "\n",
       "    .dataframe thead th {\n",
       "        text-align: right;\n",
       "    }\n",
       "</style>\n",
       "<table border=\"1\" class=\"dataframe\">\n",
       "  <thead>\n",
       "    <tr style=\"text-align: right;\">\n",
       "      <th></th>\n",
       "      <th>cores</th>\n",
       "      <th>pop_size</th>\n",
       "      <th>num_particles</th>\n",
       "      <th>migration_interval</th>\n",
       "      <th>migration_rate</th>\n",
       "      <th>final_fitness</th>\n",
       "      <th>gen_count</th>\n",
       "      <th>elapsed</th>\n",
       "      <th>elapsed/gen_count</th>\n",
       "    </tr>\n",
       "  </thead>\n",
       "  <tbody>\n",
       "    <tr>\n",
       "      <th>0</th>\n",
       "      <td>4</td>\n",
       "      <td>2000</td>\n",
       "      <td>50</td>\n",
       "      <td>50</td>\n",
       "      <td>0.05</td>\n",
       "      <td>223768.312500</td>\n",
       "      <td>800</td>\n",
       "      <td>183.845</td>\n",
       "      <td>229.806</td>\n",
       "    </tr>\n",
       "    <tr>\n",
       "      <th>1</th>\n",
       "      <td>8</td>\n",
       "      <td>2000</td>\n",
       "      <td>50</td>\n",
       "      <td>50</td>\n",
       "      <td>0.05</td>\n",
       "      <td>203220.703125</td>\n",
       "      <td>800</td>\n",
       "      <td>105.442</td>\n",
       "      <td>131.802</td>\n",
       "    </tr>\n",
       "    <tr>\n",
       "      <th>2</th>\n",
       "      <td>16</td>\n",
       "      <td>2000</td>\n",
       "      <td>50</td>\n",
       "      <td>50</td>\n",
       "      <td>0.05</td>\n",
       "      <td>179192.621089</td>\n",
       "      <td>800</td>\n",
       "      <td>45.620</td>\n",
       "      <td>57.025</td>\n",
       "    </tr>\n",
       "    <tr>\n",
       "      <th>3</th>\n",
       "      <td>32</td>\n",
       "      <td>2000</td>\n",
       "      <td>50</td>\n",
       "      <td>50</td>\n",
       "      <td>0.05</td>\n",
       "      <td>130028.859854</td>\n",
       "      <td>800</td>\n",
       "      <td>29.125</td>\n",
       "      <td>36.406</td>\n",
       "    </tr>\n",
       "  </tbody>\n",
       "</table>\n",
       "</div>"
      ],
      "text/plain": [
       "   cores   pop_size   num_particles   migration_interval   migration_rate  \\\n",
       "0      4       2000              50                   50             0.05   \n",
       "1      8       2000              50                   50             0.05   \n",
       "2     16       2000              50                   50             0.05   \n",
       "3     32       2000              50                   50             0.05   \n",
       "\n",
       "    final_fitness   gen_count   elapsed   elapsed/gen_count  \n",
       "0   223768.312500         800   183.845             229.806  \n",
       "1   203220.703125         800   105.442             131.802  \n",
       "2   179192.621089         800    45.620              57.025  \n",
       "3   130028.859854         800    29.125              36.406  "
      ]
     },
     "execution_count": 10,
     "metadata": {},
     "output_type": "execute_result"
    }
   ],
   "source": [
    "mpi_cores"
   ]
  },
  {
   "cell_type": "code",
   "execution_count": 12,
   "metadata": {},
   "outputs": [],
   "source": [
    "# ser_cores"
   ]
  },
  {
   "cell_type": "code",
   "execution_count": 25,
   "metadata": {},
   "outputs": [
    {
     "data": {
      "text/plain": [
       "Text(0.5, 0, 'Number of cores')"
      ]
     },
     "execution_count": 25,
     "metadata": {},
     "output_type": "execute_result"
    },
    {
     "data": {
      "image/png": "[encoded data removed]",
      "text/plain": [
       "<Figure size 648x504 with 1 Axes>"
      ]
     },
     "metadata": {
      "needs_background": "light"
     },
     "output_type": "display_data"
    }
   ],
   "source": [
    "plt.figure(figsize=(9,7))\n",
    "plt.grid(alpha=0.15)\n",
    "plt.minorticks_on()\n",
    "plt.grid(which='minor', color='beige', alpha=0.25)\n",
    "# plt.plot(ser_cores['cores'],ser_cores[' elapsed/gen_count'],marker='o')\n",
    "plt.plot(omp_cores['cores'], omp_cores[' elapsed/gen_count'],marker='o', color=\"violet\")\n",
    "plt.plot(mpi_cores['cores'],mpi_cores[' elapsed/gen_count'],marker='o', color=\"tab:red\")\n",
    "plt.legend(['openmp','mpi'])\n",
    "plt.ylabel('Time per 1000 generations')\n",
    "plt.xlabel('Number of cores')"
   ]
  },
  {
   "cell_type": "code",
   "execution_count": null,
   "metadata": {},
   "outputs": [],
   "source": []
  }
 ],
 "metadata": {
  "kernelspec": {
   "display_name": "Python 3",
   "language": "python",
   "name": "python3"
  },
  "language_info": {
   "codemirror_mode": {
    "name": "ipython",
    "version": 3
   },
   "file_extension": ".py",
   "mimetype": "text/x-python",
   "name": "python",
   "nbconvert_exporter": "python",
   "pygments_lexer": "ipython3",
   "version": "3.8.6"
  }
 },
 "nbformat": 4,
 "nbformat_minor": 4
}
