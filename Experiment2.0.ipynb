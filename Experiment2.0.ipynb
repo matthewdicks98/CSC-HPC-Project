{
 "cells": [
  {
   "cell_type": "code",
   "execution_count": 108,
   "metadata": {},
   "outputs": [],
   "source": [
    "import pandas as pd\n",
    "import matplotlib.pyplot as plt\n",
    "import numpy as np"
   ]
  },
  {
   "cell_type": "markdown",
   "metadata": {},
   "source": [
    "## OMP Particles"
   ]
  },
  {
   "cell_type": "code",
   "execution_count": 2,
   "metadata": {},
   "outputs": [],
   "source": [
    "omp_particles = pd.read_csv('Results2.0/omp_particles')"
   ]
  },
  {
   "cell_type": "code",
   "execution_count": 117,
   "metadata": {},
   "outputs": [
    {
     "data": {
      "text/html": [
       "<div>\n",
       "<style scoped>\n",
       "    .dataframe tbody tr th:only-of-type {\n",
       "        vertical-align: middle;\n",
       "    }\n",
       "\n",
       "    .dataframe tbody tr th {\n",
       "        vertical-align: top;\n",
       "    }\n",
       "\n",
       "    .dataframe thead th {\n",
       "        text-align: right;\n",
       "    }\n",
       "</style>\n",
       "<table border=\"1\" class=\"dataframe\">\n",
       "  <thead>\n",
       "    <tr style=\"text-align: right;\">\n",
       "      <th></th>\n",
       "      <th>cores</th>\n",
       "      <th>pop_size</th>\n",
       "      <th>num_particles</th>\n",
       "      <th>final_fitness</th>\n",
       "      <th>gen_count</th>\n",
       "      <th>elapsed</th>\n",
       "      <th>elapsed/gen_count</th>\n",
       "    </tr>\n",
       "  </thead>\n",
       "  <tbody>\n",
       "    <tr>\n",
       "      <th>0</th>\n",
       "      <td>32</td>\n",
       "      <td>2000</td>\n",
       "      <td>128</td>\n",
       "      <td>582259.067316</td>\n",
       "      <td>1000</td>\n",
       "      <td>305.425</td>\n",
       "      <td>0.305425</td>\n",
       "    </tr>\n",
       "    <tr>\n",
       "      <th>1</th>\n",
       "      <td>32</td>\n",
       "      <td>2000</td>\n",
       "      <td>64</td>\n",
       "      <td>317450.379504</td>\n",
       "      <td>672</td>\n",
       "      <td>102.576</td>\n",
       "      <td>0.152643</td>\n",
       "    </tr>\n",
       "    <tr>\n",
       "      <th>2</th>\n",
       "      <td>32</td>\n",
       "      <td>2000</td>\n",
       "      <td>32</td>\n",
       "      <td>150579.453378</td>\n",
       "      <td>303</td>\n",
       "      <td>42.081</td>\n",
       "      <td>0.138881</td>\n",
       "    </tr>\n",
       "    <tr>\n",
       "      <th>3</th>\n",
       "      <td>32</td>\n",
       "      <td>2000</td>\n",
       "      <td>16</td>\n",
       "      <td>73356.775369</td>\n",
       "      <td>161</td>\n",
       "      <td>15.315</td>\n",
       "      <td>0.095126</td>\n",
       "    </tr>\n",
       "    <tr>\n",
       "      <th>4</th>\n",
       "      <td>32</td>\n",
       "      <td>2000</td>\n",
       "      <td>8</td>\n",
       "      <td>36734.420780</td>\n",
       "      <td>103</td>\n",
       "      <td>8.375</td>\n",
       "      <td>0.081315</td>\n",
       "    </tr>\n",
       "  </tbody>\n",
       "</table>\n",
       "</div>"
      ],
      "text/plain": [
       "   cores   pop_size   num_particles   final_fitness   gen_count   elapsed  \\\n",
       "0     32       2000             128   582259.067316        1000   305.425   \n",
       "1     32       2000              64   317450.379504         672   102.576   \n",
       "2     32       2000              32   150579.453378         303    42.081   \n",
       "3     32       2000              16    73356.775369         161    15.315   \n",
       "4     32       2000               8    36734.420780         103     8.375   \n",
       "\n",
       "    elapsed/gen_count  \n",
       "0            0.305425  \n",
       "1            0.152643  \n",
       "2            0.138881  \n",
       "3            0.095126  \n",
       "4            0.081315  "
      ]
     },
     "execution_count": 117,
     "metadata": {},
     "output_type": "execute_result"
    }
   ],
   "source": [
    "omp_particles.head()"
   ]
  },
  {
   "cell_type": "code",
   "execution_count": 10,
   "metadata": {},
   "outputs": [],
   "source": [
    "cores = omp_particles[omp_particles[' num_particles']==128]['cores']"
   ]
  },
  {
   "cell_type": "code",
   "execution_count": 81,
   "metadata": {},
   "outputs": [],
   "source": [
    "x = omp_particles[(omp_particles[' num_particles']==16)][' elapsed/gen_count'].to_list()[-1]*1000"
   ]
  },
  {
   "cell_type": "code",
   "execution_count": 82,
   "metadata": {},
   "outputs": [
    {
     "data": {
      "text/plain": [
       "3     0.095126\n",
       "8     0.055906\n",
       "13    0.036613\n",
       "18    0.039341\n",
       "23    0.049016\n",
       "Name:  elapsed/gen_count, dtype: float64"
      ]
     },
     "execution_count": 82,
     "metadata": {},
     "output_type": "execute_result"
    }
   ],
   "source": [
    "omp_particles[(omp_particles[' num_particles']==16)][' elapsed/gen_count']"
   ]
  },
  {
   "cell_type": "code",
   "execution_count": 83,
   "metadata": {},
   "outputs": [
    {
     "data": {
      "text/plain": [
       "[<matplotlib.lines.Line2D at 0x7f275d5d0588>]"
      ]
     },
     "execution_count": 83,
     "metadata": {},
     "output_type": "execute_result"
    },
    {
     "data": {
      "image/png": "[encoded data removed]",
      "text/plain": [
       "<Figure size 432x288 with 1 Axes>"
      ]
     },
     "metadata": {
      "needs_background": "light"
     },
     "output_type": "display_data"
    }
   ],
   "source": [
    "plt.plot(cores,x/omp_particles[omp_particles[' num_particles']==16][' elapsed/gen_count']*1000)"
   ]
  },
  {
   "cell_type": "code",
   "execution_count": 5,
   "metadata": {},
   "outputs": [
    {
     "data": {
      "text/html": [
       "<div>\n",
       "<style scoped>\n",
       "    .dataframe tbody tr th:only-of-type {\n",
       "        vertical-align: middle;\n",
       "    }\n",
       "\n",
       "    .dataframe tbody tr th {\n",
       "        vertical-align: top;\n",
       "    }\n",
       "\n",
       "    .dataframe thead th {\n",
       "        text-align: right;\n",
       "    }\n",
       "</style>\n",
       "<table border=\"1\" class=\"dataframe\">\n",
       "  <thead>\n",
       "    <tr style=\"text-align: right;\">\n",
       "      <th></th>\n",
       "      <th>cores</th>\n",
       "      <th>pop_size</th>\n",
       "      <th>num_particles</th>\n",
       "      <th>final_fitness</th>\n",
       "      <th>gen_count</th>\n",
       "      <th>elapsed</th>\n",
       "      <th>elapsed/gen_count</th>\n",
       "    </tr>\n",
       "  </thead>\n",
       "  <tbody>\n",
       "    <tr>\n",
       "      <th>0</th>\n",
       "      <td>32</td>\n",
       "      <td>2000</td>\n",
       "      <td>128</td>\n",
       "      <td>582259.067316</td>\n",
       "      <td>1000</td>\n",
       "      <td>305.425</td>\n",
       "      <td>0.305425</td>\n",
       "    </tr>\n",
       "    <tr>\n",
       "      <th>5</th>\n",
       "      <td>16</td>\n",
       "      <td>2000</td>\n",
       "      <td>128</td>\n",
       "      <td>643567.354327</td>\n",
       "      <td>1000</td>\n",
       "      <td>400.819</td>\n",
       "      <td>0.400819</td>\n",
       "    </tr>\n",
       "    <tr>\n",
       "      <th>10</th>\n",
       "      <td>8</td>\n",
       "      <td>2000</td>\n",
       "      <td>128</td>\n",
       "      <td>663788.111403</td>\n",
       "      <td>1000</td>\n",
       "      <td>627.419</td>\n",
       "      <td>0.627419</td>\n",
       "    </tr>\n",
       "    <tr>\n",
       "      <th>15</th>\n",
       "      <td>4</td>\n",
       "      <td>2000</td>\n",
       "      <td>128</td>\n",
       "      <td>627058.197193</td>\n",
       "      <td>1000</td>\n",
       "      <td>1216.542</td>\n",
       "      <td>1.216542</td>\n",
       "    </tr>\n",
       "    <tr>\n",
       "      <th>20</th>\n",
       "      <td>2</td>\n",
       "      <td>2000</td>\n",
       "      <td>128</td>\n",
       "      <td>589997.516342</td>\n",
       "      <td>1000</td>\n",
       "      <td>2518.594</td>\n",
       "      <td>2.518594</td>\n",
       "    </tr>\n",
       "  </tbody>\n",
       "</table>\n",
       "</div>"
      ],
      "text/plain": [
       "    cores   pop_size   num_particles   final_fitness   gen_count   elapsed  \\\n",
       "0      32       2000             128   582259.067316        1000   305.425   \n",
       "5      16       2000             128   643567.354327        1000   400.819   \n",
       "10      8       2000             128   663788.111403        1000   627.419   \n",
       "15      4       2000             128   627058.197193        1000  1216.542   \n",
       "20      2       2000             128   589997.516342        1000  2518.594   \n",
       "\n",
       "     elapsed/gen_count  \n",
       "0             0.305425  \n",
       "5             0.400819  \n",
       "10            0.627419  \n",
       "15            1.216542  \n",
       "20            2.518594  "
      ]
     },
     "execution_count": 5,
     "metadata": {},
     "output_type": "execute_result"
    }
   ],
   "source": [
    "omp_particles[omp_particles[' num_particles']==128]"
   ]
  },
  {
   "cell_type": "markdown",
   "metadata": {},
   "source": [
    "### Strong scaling test"
   ]
  },
  {
   "cell_type": "code",
   "execution_count": 120,
   "metadata": {},
   "outputs": [
    {
     "data": {
      "text/plain": [
       "Text(0, 0.5, 'Speed-up')"
      ]
     },
     "execution_count": 120,
     "metadata": {},
     "output_type": "execute_result"
    },
    {
     "name": "stderr",
     "output_type": "stream",
     "text": [
      "/home/matt/anaconda3/lib/python3.6/site-packages/matplotlib/ticker.py:2937: RuntimeWarning: invalid value encountered in log10\n",
      "  majorstep_no_exponent = 10 ** (np.log10(majorstep) % 1)\n"
     ]
    },
    {
     "data": {
      "image/png": "[encoded data removed]",
      "text/plain": [
       "<Figure size 648x504 with 1 Axes>"
      ]
     },
     "metadata": {
      "needs_background": "light"
     },
     "output_type": "display_data"
    }
   ],
   "source": [
    "plt.figure(figsize=(9,7))\n",
    "plt.grid(alpha=0.15)\n",
    "plt.minorticks_on()\n",
    "plt.grid(which='minor', color='beige', alpha=0.25)\n",
    "for num_particles in omp_particles[' num_particles'].unique():\n",
    "    seq_time = omp_particles[(omp_particles[' num_particles']==num_particles)][' elapsed/gen_count'].to_list()[-1]\n",
    "    plt.plot(cores,seq_time/omp_particles[omp_particles[' num_particles']==num_particles][' elapsed/gen_count'], \n",
    "             marker='o')\n",
    "plt.xticks(ticks = cores)\n",
    "plt.legend([128,64,32,16,8],title=\"Particles\")\n",
    "plt.title('Strong scaling test with increasing number of particles')\n",
    "plt.xlabel('OMP Threads')\n",
    "plt.ylabel('Speed-up')"
   ]
  },
  {
   "cell_type": "markdown",
   "metadata": {},
   "source": [
    "### Weak Scaling test"
   ]
  },
  {
   "cell_type": "code",
   "execution_count": 116,
   "metadata": {},
   "outputs": [
    {
     "data": {
      "text/plain": [
       "Text(0, 0.5, 'Speed-up')"
      ]
     },
     "execution_count": 116,
     "metadata": {},
     "output_type": "execute_result"
    },
    {
     "name": "stderr",
     "output_type": "stream",
     "text": [
      "/home/matt/anaconda3/lib/python3.6/site-packages/matplotlib/ticker.py:2937: RuntimeWarning: invalid value encountered in log10\n",
      "  majorstep_no_exponent = 10 ** (np.log10(majorstep) % 1)\n"
     ]
    },
    {
     "data": {
      "image/png": "[encoded data removed]",
      "text/plain": [
       "<Figure size 648x504 with 1 Axes>"
      ]
     },
     "metadata": {
      "needs_background": "light"
     },
     "output_type": "display_data"
    }
   ],
   "source": [
    "plt.figure(figsize=(9,7))\n",
    "plt.grid(alpha=0.15)\n",
    "plt.minorticks_on()\n",
    "plt.grid(which='minor', color='beige', alpha=0.25)\n",
    "times = []\n",
    "seq_times = []\n",
    "particles = omp_particles[' num_particles'].unique()[::-1]\n",
    "for i in range(len(cores)):\n",
    "    x = omp_particles[omp_particles[' num_particles']==particles[i]][' elapsed/gen_count'][(len(cores)-1)-i]\n",
    "    seq_time = omp_particles[omp_particles[' num_particles']==particles[i]][' elapsed/gen_count'].to_list()[-1]\n",
    "    times.append(x)\n",
    "    seq_times.append(seq_time)\n",
    "plt.plot(cores[::-1],np.array(seq_times)/np.array(times), marker='o')\n",
    "plt.xticks(ticks = cores)\n",
    "plt.title('Weak scaling test with increasing number of particles')\n",
    "plt.xlabel('OMP Threads')\n",
    "plt.ylabel('Speed-up')"
   ]
  },
  {
   "cell_type": "markdown",
   "metadata": {},
   "source": [
    "## OMP population"
   ]
  },
  {
   "cell_type": "code",
   "execution_count": null,
   "metadata": {},
   "outputs": [],
   "source": []
  },
  {
   "cell_type": "markdown",
   "metadata": {},
   "source": [
    "## MPI particles"
   ]
  },
  {
   "cell_type": "code",
   "execution_count": null,
   "metadata": {},
   "outputs": [],
   "source": []
  },
  {
   "cell_type": "markdown",
   "metadata": {},
   "source": [
    "## MPI population"
   ]
  },
  {
   "cell_type": "code",
   "execution_count": null,
   "metadata": {},
   "outputs": [],
   "source": []
  }
 ],
 "metadata": {
  "kernelspec": {
   "display_name": "Python 3",
   "language": "python",
   "name": "python3"
  },
  "language_info": {
   "codemirror_mode": {
    "name": "ipython",
    "version": 3
   },
   "file_extension": ".py",
   "mimetype": "text/x-python",
   "name": "python",
   "nbconvert_exporter": "python",
   "pygments_lexer": "ipython3",
   "version": "3.6.10"
  }
 },
 "nbformat": 4,
 "nbformat_minor": 4
}
